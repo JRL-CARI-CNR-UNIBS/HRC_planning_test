{
  "cells": [
    {
      "cell_type": "markdown",
      "metadata": {},
      "source": [
        "HRC Case with instantaneus action."
      ]
    },
    {
      "cell_type": "code",
      "execution_count": 2,
      "metadata": {
        "colab": {
          "base_uri": "https://localhost:8080/"
        },
        "id": "EbyK9bWfqDgd",
        "outputId": "32c2296a-5ddb-466a-e026-4c1e8d7ac67c"
      },
      "outputs": [
        {
          "name": "stdout",
          "output_type": "stream",
          "text": [
            "Requirement already satisfied: unified-planning[fmap] in /home/samuele/.local/lib/python3.8/site-packages (1.0.0.53.dev1)\n",
            "Requirement already satisfied: networkx in /usr/lib/python3/dist-packages (from unified-planning[fmap]) (2.4)\n",
            "Requirement already satisfied: pyparsing in /usr/lib/python3/dist-packages (from unified-planning[fmap]) (2.4.6)\n",
            "Requirement already satisfied: up-fmap==0.0.7; extra == \"fmap\" in /home/samuele/.local/lib/python3.8/site-packages (from unified-planning[fmap]) (0.0.7)\n"
          ]
        }
      ],
      "source": [
        "!pip install --pre unified-planning[fmap]\n",
        "# !apt install libgraphviz-dev\n",
        "# !pip install pygraphviz\n"
      ]
    },
    {
      "cell_type": "markdown",
      "metadata": {},
      "source": [
        "Scheduling example:"
      ]
    },
    {
      "cell_type": "code",
      "execution_count": 3,
      "metadata": {
        "colab": {
          "base_uri": "https://localhost:8080/"
        },
        "id": "UAQ2bhOsqEa7",
        "outputId": "719a3c3d-5d83-4e5b-96b1-6d476cd495ce"
      },
      "outputs": [],
      "source": [
        "from unified_planning.model.scheduling import SchedulingProblem\n",
        "from unified_planning.shortcuts import *\n",
        "\n",
        "problem = SchedulingProblem(\"factory\")\n",
        "workers = problem.add_resource(\"workers\", capacity=4)\n",
        "machine1 = problem.add_resource(\"machine1\", capacity=1)\n",
        "machine2 = problem.add_resource(\"machine2\", capacity=1)\n",
        "\n",
        "a1 = problem.add_activity(\"a1\", duration=3)\n",
        "a1.uses(machine1)\n",
        "a1.uses(workers, amount=2)\n",
        "a1.add_deadline(14)\n",
        "\n",
        "a2 = problem.add_activity(\"a2\", duration=6)\n",
        "a2.uses(workers)\n",
        "a2.uses(machine2)\n",
        "\n",
        "problem.add_constraint(LT(a2.end, a1.start))\n",
        "\n",
        "# One worker is unavailable over [16, 25)\n",
        "problem.add_decrease_effect(16, workers, 1)\n",
        "problem.add_increase_effect(25, workers, 1)\n",
        "\n",
        "with OneshotPlanner(name='fmap') as planner:\n",
        "    result = planner.solve(problem, None, \"1\")\n",
        "    if result.status == up.engines.PlanGenerationResultStatus.SOLVED_SATISFICING:\n",
        "        print(\"%s Returned Sequential Plans object: %s\" % (planner.name, result.plan.all_sequential_plans()))\n",
        "        # [print(f\"{idx} Sequential Plans: {seq_plan}\") for idx, seq_plan in enumerate(result.plan.all_sequential_plans())]\n",
        "        # print(\"Adjacency list:\", result.plan.get_adjacency_list)\n",
        "        print(\"result:\", result)\n",
        "    else:\n",
        "        print(\"Log Error:\", result)"
      ]
    }
  ],
  "metadata": {
    "colab": {
      "provenance": []
    },
    "kernelspec": {
      "display_name": "Python 3.8.10 64-bit",
      "language": "python",
      "name": "python3"
    },
    "language_info": {
      "codemirror_mode": {
        "name": "ipython",
        "version": 3
      },
      "file_extension": ".py",
      "mimetype": "text/x-python",
      "name": "python",
      "nbconvert_exporter": "python",
      "pygments_lexer": "ipython3",
      "version": "3.8.10"
    },
    "vscode": {
      "interpreter": {
        "hash": "916dbcbb3f70747c44a77c7bcd40155683ae19c65e1c03b4aa3499c5328201f1"
      }
    }
  },
  "nbformat": 4,
  "nbformat_minor": 0
}
